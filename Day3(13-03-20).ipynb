{
 "cells": [
  {
   "cell_type": "code",
   "execution_count": 2,
   "metadata": {},
   "outputs": [
    {
     "name": "stdout",
     "output_type": "stream",
     "text": [
      "4\n",
      "1\n",
      "10\n"
     ]
    }
   ],
   "source": [
    "#List\n",
    "l = [1,2,3,10]\n",
    "print(len(l))\n",
    "print(min(l))\n",
    "print(max(l))"
   ]
  },
  {
   "cell_type": "code",
   "execution_count": 5,
   "metadata": {},
   "outputs": [
    {
     "name": "stdout",
     "output_type": "stream",
     "text": [
      "[100, 200]\n",
      "[100, 23, 30, 200]\n",
      "[100, 23, 30, 200, 6, 7, 9]\n"
     ]
    }
   ],
   "source": [
    "#Built-in methods:\n",
    "#inserting elements into the list-->append(),insert(),extend()\n",
    "l.append(100)\n",
    "l.append(200)\n",
    "print(l)\n",
    "l.insert(1,23)\n",
    "l.insert(2,30)\n",
    "print(l)\n",
    "l.extend([6,7,9])\n",
    "print(l)"
   ]
  },
  {
   "cell_type": "code",
   "execution_count": 6,
   "metadata": {},
   "outputs": [
    {
     "name": "stdout",
     "output_type": "stream",
     "text": [
      "[100, 23, 30, 200, 6, 7]\n",
      "[23, 30, 200, 6, 7]\n"
     ]
    }
   ],
   "source": [
    "#removing elements from the list-->pop(),remove(),clear()\n",
    "l.pop()\n",
    "print(l)\n",
    "l.remove(100)\n",
    "print(l)\n",
    "#l.clear()\n",
    "#print(l)"
   ]
  },
  {
   "cell_type": "code",
   "execution_count": 19,
   "metadata": {},
   "outputs": [
    {
     "name": "stdout",
     "output_type": "stream",
     "text": [
      "[200, 100, 30, 23, 7, 6]\n",
      "[6, 7, 23, 30, 100, 200]\n"
     ]
    }
   ],
   "source": [
    "#sort(),reverse()\n",
    "l.sort(reverse=True)\n",
    "print(l)\n",
    "l.reverse()\n",
    "print(l)"
   ]
  },
  {
   "cell_type": "code",
   "execution_count": 15,
   "metadata": {},
   "outputs": [
    {
     "name": "stdout",
     "output_type": "stream",
     "text": [
      "[200, 30, 23, 7, 6]\n",
      "[200, 30, 23, 7, 6]\n",
      "[200, 30, 23, 7, 6, 100] [200, 30, 23, 7, 6] [200, 30, 23, 7, 6, 100]\n"
     ]
    }
   ],
   "source": [
    "#copy()\n",
    "l2 = []\n",
    "l3 = []\n",
    "l2=l.copy()\n",
    "print(l2)\n",
    "l3 = l\n",
    "print(l3)\n",
    "l.append(100)\n",
    "print(l,l2,l3)"
   ]
  },
  {
   "cell_type": "code",
   "execution_count": 20,
   "metadata": {},
   "outputs": [
    {
     "name": "stdout",
     "output_type": "stream",
     "text": [
      "5\n",
      "1\n"
     ]
    }
   ],
   "source": [
    "#index()-->returns index of the given element,count()-->returns frequency\n",
    "print(l.index(200))\n",
    "print(l.count(100))"
   ]
  },
  {
   "cell_type": "code",
   "execution_count": 24,
   "metadata": {},
   "outputs": [
    {
     "name": "stdout",
     "output_type": "stream",
     "text": [
      "[2, 4, 6, 10]\n",
      "[2, 4, 6, 10]\n",
      "[4]\n"
     ]
    }
   ],
   "source": [
    "#input : [1,2,3,5]\n",
    "#output : [2,4,6,10]\n",
    "l3 = [1,2,3,5]\n",
    "l4 = []\n",
    "for i in l3:\n",
    "    l4.append(i*2)\n",
    "print(l4)\n",
    "#list comprehension\n",
    "l5 = [i*2 for i in l3]\n",
    "print(l5)\n",
    "#only even numbers multiplied value\n",
    "l6 = [i*2 for i in l3 if i%2==0]\n",
    "print(l6)"
   ]
  },
  {
   "cell_type": "code",
   "execution_count": 28,
   "metadata": {},
   "outputs": [
    {
     "name": "stdout",
     "output_type": "stream",
     "text": [
      "hyderabad\n",
      "hyderabad\n"
     ]
    }
   ],
   "source": [
    "#print the maximum length string on the screen\n",
    "list1 = [\"hyderabad\",\"vizag\",\"banglore\"]\n",
    "\n",
    "maxstr = list1[0]\n",
    "for i in list1:\n",
    "    if len(i)>len(maxstr):\n",
    "        maxstr=i\n",
    "print(maxstr)\n",
    "\n",
    "#second way\n",
    "lengths = [len(i) for i in list1]\n",
    "print(list1[lengths.index(max(lengths))])"
   ]
  },
  {
   "cell_type": "code",
   "execution_count": 7,
   "metadata": {},
   "outputs": [
    {
     "name": "stdout",
     "output_type": "stream",
     "text": [
      "enter a number18923\n",
      "9 1\n",
      "enter a number18923\n",
      "9 1\n"
     ]
    }
   ],
   "source": [
    "#Accept a number as an input and print the largest number \n",
    "n = int(input(\"enter a number\"))\n",
    "maximum = 0\n",
    "minimum = 9\n",
    "while n!=0:\n",
    "    r = n%10\n",
    "    if r>maximum:\n",
    "        maximum = r\n",
    "    if r<minimum:\n",
    "        minimum = r\n",
    "    n=n//10\n",
    "print(maximum,minimum)   \n",
    "\n",
    "#Another way\n",
    "n = int(input(\"enter a number\"))\n",
    "print(max(str(n)),min(str(n)))"
   ]
  },
  {
   "cell_type": "code",
   "execution_count": null,
   "metadata": {},
   "outputs": [],
   "source": []
  },
  {
   "cell_type": "code",
   "execution_count": null,
   "metadata": {},
   "outputs": [],
   "source": []
  }
 ],
 "metadata": {
  "kernelspec": {
   "display_name": "Python 3",
   "language": "python",
   "name": "python3"
  },
  "language_info": {
   "codemirror_mode": {
    "name": "ipython",
    "version": 3
   },
   "file_extension": ".py",
   "mimetype": "text/x-python",
   "name": "python",
   "nbconvert_exporter": "python",
   "pygments_lexer": "ipython3",
   "version": "3.7.3"
  }
 },
 "nbformat": 4,
 "nbformat_minor": 2
}
