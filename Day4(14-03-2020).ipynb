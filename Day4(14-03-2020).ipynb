{
 "cells": [
  {
   "cell_type": "code",
   "execution_count": 1,
   "metadata": {},
   "outputs": [
    {
     "name": "stdout",
     "output_type": "stream",
     "text": [
      "(1, 2, 3) (10, 20, 30)\n",
      "<class 'tuple'> <class 'tuple'>\n"
     ]
    }
   ],
   "source": [
    "#Tuple: immutable\n",
    "x = (1,2,3)\n",
    "y = 10,20,30\n",
    "print(x,y)\n",
    "print(type(x),type(y))"
   ]
  },
  {
   "cell_type": "code",
   "execution_count": null,
   "metadata": {},
   "outputs": [],
   "source": [
    "#BUilt-in methods\n",
    "# 1. index()\n",
    "# 2. count()\n",
    "print(x.index(2))#1\n",
    "print(x.count(2))#1"
   ]
  },
  {
   "cell_type": "code",
   "execution_count": 2,
   "metadata": {},
   "outputs": [
    {
     "name": "stdout",
     "output_type": "stream",
     "text": [
      "3\n",
      "1\n",
      "3\n"
     ]
    }
   ],
   "source": [
    "#Built-in functions:\n",
    "print(len(x))\n",
    "print(min(x))\n",
    "print(max(x))"
   ]
  },
  {
   "cell_type": "code",
   "execution_count": 5,
   "metadata": {},
   "outputs": [
    {
     "name": "stdout",
     "output_type": "stream",
     "text": [
      "(1, 2, 3, 10, 20, 30, 10, 20, 30)\n"
     ]
    }
   ],
   "source": [
    "x = x+y\n",
    "print(x)\n"
   ]
  },
  {
   "cell_type": "code",
   "execution_count": 13,
   "metadata": {},
   "outputs": [
    {
     "name": "stdout",
     "output_type": "stream",
     "text": [
      "(1, 2, 200, 10, 20, 30, 10, 20, 30, 100, 100, 100)\n"
     ]
    }
   ],
   "source": [
    "x = list(x)\n",
    "x.append(100)\n",
    "x = tuple(x)\n",
    "print(x)"
   ]
  },
  {
   "cell_type": "code",
   "execution_count": 14,
   "metadata": {},
   "outputs": [
    {
     "ename": "TypeError",
     "evalue": "'tuple' object does not support item assignment",
     "output_type": "error",
     "traceback": [
      "\u001b[1;31m---------------------------------------------------------------------------\u001b[0m",
      "\u001b[1;31mTypeError\u001b[0m                                 Traceback (most recent call last)",
      "\u001b[1;32m<ipython-input-14-448783fdd186>\u001b[0m in \u001b[0;36m<module>\u001b[1;34m\u001b[0m\n\u001b[1;32m----> 1\u001b[1;33m \u001b[0mx\u001b[0m\u001b[1;33m[\u001b[0m\u001b[1;36m2\u001b[0m\u001b[1;33m]\u001b[0m \u001b[1;33m=\u001b[0m \u001b[1;36m200\u001b[0m\u001b[1;33m\u001b[0m\u001b[1;33m\u001b[0m\u001b[0m\n\u001b[0m\u001b[0;32m      2\u001b[0m \u001b[0mx\u001b[0m\u001b[1;33m\u001b[0m\u001b[1;33m\u001b[0m\u001b[0m\n",
      "\u001b[1;31mTypeError\u001b[0m: 'tuple' object does not support item assignment"
     ]
    }
   ],
   "source": [
    "x[2] = 200\n",
    "x"
   ]
  },
  {
   "cell_type": "code",
   "execution_count": 19,
   "metadata": {},
   "outputs": [
    {
     "name": "stdout",
     "output_type": "stream",
     "text": [
      "{1, 2, 3, 4, 5}\n",
      "{3}\n",
      "False\n",
      "False\n",
      "False\n",
      "False\n",
      "False\n",
      "{1, 2}\n",
      "{4, 5}\n",
      "{1, 2, 4, 5}\n"
     ]
    }
   ],
   "source": [
    "#set:{},unindexed,unordered,does not allow duplicate value\n",
    "#mutable\n",
    "A = {1,2,3}\n",
    "B = {3,4,5}\n",
    "#A union B = {1,2,3,4,5}\n",
    "#A intersection B = {3}\n",
    "#A,B disjoint\n",
    "#A is subset of B or vice-versa\n",
    "#A is superset of B or vice-versa\n",
    "#A-B = {1,2}\n",
    "#B-A = {4,5}\n",
    "# A symmetric B={1,2,4,5}\n",
    "print(A.union(B))\n",
    "print(A.intersection(B))\n",
    "print(A.isdisjoint(B))\n",
    "print(A.issubset(B))\n",
    "print(B.issubset(A))\n",
    "print(A.issuperset(B))\n",
    "print(B.issuperset(A))\n",
    "print(A.difference(B))\n",
    "print(B.difference(A))\n",
    "print(A.symmetric_difference(B))"
   ]
  },
  {
   "cell_type": "code",
   "execution_count": 20,
   "metadata": {},
   "outputs": [
    {
     "name": "stdout",
     "output_type": "stream",
     "text": [
      "{1, 2, 3, 4, 5} {3, 4, 5}\n"
     ]
    }
   ],
   "source": [
    "A.update(B)\n",
    "print(A,B)"
   ]
  },
  {
   "cell_type": "code",
   "execution_count": 21,
   "metadata": {},
   "outputs": [
    {
     "name": "stdout",
     "output_type": "stream",
     "text": [
      "{3, 4, 5} {3, 4, 5}\n"
     ]
    }
   ],
   "source": [
    "A.intersection_update(B)\n",
    "print(A,B)"
   ]
  },
  {
   "cell_type": "code",
   "execution_count": 24,
   "metadata": {},
   "outputs": [
    {
     "data": {
      "text/plain": [
       "{3, 4, 5, 10}"
      ]
     },
     "execution_count": 24,
     "metadata": {},
     "output_type": "execute_result"
    }
   ],
   "source": [
    "A.add(10)\n",
    "A"
   ]
  },
  {
   "cell_type": "code",
   "execution_count": 27,
   "metadata": {},
   "outputs": [
    {
     "ename": "KeyError",
     "evalue": "100",
     "output_type": "error",
     "traceback": [
      "\u001b[1;31m---------------------------------------------------------------------------\u001b[0m",
      "\u001b[1;31mKeyError\u001b[0m                                  Traceback (most recent call last)",
      "\u001b[1;32m<ipython-input-27-fbd7ab3f4d5f>\u001b[0m in \u001b[0;36m<module>\u001b[1;34m\u001b[0m\n\u001b[1;32m----> 1\u001b[1;33m \u001b[0mA\u001b[0m\u001b[1;33m.\u001b[0m\u001b[0mremove\u001b[0m\u001b[1;33m(\u001b[0m\u001b[1;36m100\u001b[0m\u001b[1;33m)\u001b[0m\u001b[1;33m\u001b[0m\u001b[1;33m\u001b[0m\u001b[0m\n\u001b[0m\u001b[0;32m      2\u001b[0m \u001b[0mA\u001b[0m\u001b[1;33m\u001b[0m\u001b[1;33m\u001b[0m\u001b[0m\n",
      "\u001b[1;31mKeyError\u001b[0m: 100"
     ]
    }
   ],
   "source": [
    "A.remove(100)\n",
    "A"
   ]
  },
  {
   "cell_type": "code",
   "execution_count": 26,
   "metadata": {},
   "outputs": [
    {
     "data": {
      "text/plain": [
       "3"
      ]
     },
     "execution_count": 26,
     "metadata": {},
     "output_type": "execute_result"
    }
   ],
   "source": [
    "A.pop()"
   ]
  },
  {
   "cell_type": "code",
   "execution_count": 31,
   "metadata": {},
   "outputs": [
    {
     "name": "stdout",
     "output_type": "stream",
     "text": [
      "{5}\n"
     ]
    }
   ],
   "source": [
    "A.discard(4)\n",
    "print(A)"
   ]
  },
  {
   "cell_type": "code",
   "execution_count": 41,
   "metadata": {},
   "outputs": [
    {
     "name": "stdout",
     "output_type": "stream",
     "text": [
      "preeti\n"
     ]
    }
   ],
   "source": [
    "#Dictionary:{key1:value1,key2:value2,.....}\n",
    "#KEY:1.keys should be unique \n",
    "#2.keys should be immutable-->numbers,strings,tuple\n",
    "d  = {\"name\":\"preeti\",\"age\":20}\n",
    "print(d[\"name\"])"
   ]
  },
  {
   "cell_type": "code",
   "execution_count": 42,
   "metadata": {},
   "outputs": [
    {
     "name": "stdout",
     "output_type": "stream",
     "text": [
      "2\n",
      "age\n",
      "name\n"
     ]
    }
   ],
   "source": [
    "print(len(d))\n",
    "print(min(d))\n",
    "print(max(d))"
   ]
  },
  {
   "cell_type": "code",
   "execution_count": 45,
   "metadata": {},
   "outputs": [
    {
     "name": "stdout",
     "output_type": "stream",
     "text": [
      "{'name': 'preeti', 'age': 20, 'course': 'python'}\n"
     ]
    }
   ],
   "source": [
    "#Adding entry into the dictionary\n",
    "d[\"course\"] = \"python\"\n",
    "print(d)"
   ]
  },
  {
   "cell_type": "code",
   "execution_count": 46,
   "metadata": {},
   "outputs": [
    {
     "name": "stdout",
     "output_type": "stream",
     "text": [
      "{'name': 'preeti', 'age': 20}\n"
     ]
    }
   ],
   "source": [
    "#Removing an entry from the dictionary\n",
    "del d[\"course\"]\n",
    "print(d)"
   ]
  },
  {
   "cell_type": "code",
   "execution_count": 47,
   "metadata": {},
   "outputs": [
    {
     "name": "stdout",
     "output_type": "stream",
     "text": [
      "{'name': 'preeti', 'age': 30}\n"
     ]
    }
   ],
   "source": [
    "#updating an entry\n",
    "d['age'] = 30\n",
    "print(d)"
   ]
  },
  {
   "cell_type": "code",
   "execution_count": 44,
   "metadata": {},
   "outputs": [
    {
     "name": "stdout",
     "output_type": "stream",
     "text": [
      "dict_items([('name', 'preeti'), ('age', 20)])\n",
      "dict_keys(['name', 'age'])\n",
      "dict_values(['preeti', 20])\n"
     ]
    }
   ],
   "source": [
    "#Built-in methods:\n",
    "print(d.items())\n",
    "print(d.keys())\n",
    "print(d.values())"
   ]
  },
  {
   "cell_type": "code",
   "execution_count": 50,
   "metadata": {},
   "outputs": [
    {
     "data": {
      "text/plain": [
       "'preeti'"
      ]
     },
     "execution_count": 50,
     "metadata": {},
     "output_type": "execute_result"
    }
   ],
   "source": [
    "d.get(\"name\")"
   ]
  },
  {
   "cell_type": "code",
   "execution_count": 52,
   "metadata": {},
   "outputs": [
    {
     "data": {
      "text/plain": [
       "{'name': 'preeti'}"
      ]
     },
     "execution_count": 52,
     "metadata": {},
     "output_type": "execute_result"
    }
   ],
   "source": [
    "#d.pop(\"age\")\n",
    "d"
   ]
  },
  {
   "cell_type": "code",
   "execution_count": 58,
   "metadata": {},
   "outputs": [
    {
     "data": {
      "text/plain": [
       "{'name': 'preeti', 'age': 30, ('course', 'address'): 0, 'course': 0}"
      ]
     },
     "execution_count": 58,
     "metadata": {},
     "output_type": "execute_result"
    }
   ],
   "source": [
    "d[\"age\"]=30\n",
    "d"
   ]
  },
  {
   "cell_type": "code",
   "execution_count": 57,
   "metadata": {},
   "outputs": [
    {
     "data": {
      "text/plain": [
       "{'name': 'preeti', 'age': 30, ('course', 'address'): 0, 'course': 0}"
      ]
     },
     "execution_count": 57,
     "metadata": {},
     "output_type": "execute_result"
    }
   ],
   "source": [
    "d.setdefault(\"course\",0)\n",
    "d"
   ]
  },
  {
   "cell_type": "code",
   "execution_count": 1,
   "metadata": {},
   "outputs": [
    {
     "name": "stdout",
     "output_type": "stream",
     "text": [
      "enter no.of students2\n",
      "enter your nameasd\n",
      "enter your roll number13\n",
      "enter your sectiondsd\n",
      "enter your namesdfg\n",
      "enter your roll number234\n",
      "enter your sectionsdfg\n"
     ]
    },
    {
     "data": {
      "text/plain": [
       "[{'name': 'asd', 'rno': 13, 'section': 'dsd'},\n",
       " {'name': 'sdfg', 'rno': 234, 'section': 'sdfg'}]"
      ]
     },
     "execution_count": 1,
     "metadata": {},
     "output_type": "execute_result"
    }
   ],
   "source": [
    "#no.of students -->3\n",
    "#name,roll number,section-->{'abc',1,cse1},{},{}\n",
    "#list1->\n",
    "list1 = []\n",
    "n = int(input(\"enter no.of students\"))\n",
    "for i in range(n):\n",
    "    d = {}\n",
    "    d[\"name\"] = input(\"enter your name\")\n",
    "    d[\"rno\"] = int(input(\"enter your roll number\"))\n",
    "    d[\"section\"] = input(\"enter your section\")\n",
    "    list1.append(d)\n",
    "list1"
   ]
  },
  {
   "cell_type": "code",
   "execution_count": 3,
   "metadata": {},
   "outputs": [
    {
     "name": "stdout",
     "output_type": "stream",
     "text": [
      "{'admin': ['local', 'public', 'administration'], 'user A': ['local'], 'userB': ['public']}\n"
     ]
    }
   ],
   "source": [
    "#input:{\"local\":[\"admin\",\"user A\"],\n",
    "#       \"public\":[\"admin\",\"userB\"],\n",
    "#       \"administration\":[\"admin\"]}\n",
    "#output :{\"admin\":[\"local\",\"public\",\"administration\"],\n",
    "#         \"userA\":[\"local\"],\n",
    "#         \"userB\":[\"public\"]}\n",
    "d = {\"local\":[\"admin\",\"user A\"],\"public\":[\"admin\",\"userB\"],\"administration\":[\"admin\"]}\n",
    "d1 = {}\n",
    "for i in d:\n",
    "    for user in d[i]:\n",
    "        if user in d1:\n",
    "            d1[user].append(i)\n",
    "        else:\n",
    "            d1[user] = [i]\n",
    "print(d1)"
   ]
  },
  {
   "cell_type": "code",
   "execution_count": null,
   "metadata": {},
   "outputs": [],
   "source": []
  },
  {
   "cell_type": "code",
   "execution_count": null,
   "metadata": {},
   "outputs": [],
   "source": []
  },
  {
   "cell_type": "code",
   "execution_count": null,
   "metadata": {},
   "outputs": [],
   "source": []
  }
 ],
 "metadata": {
  "kernelspec": {
   "display_name": "Python 3",
   "language": "python",
   "name": "python3"
  },
  "language_info": {
   "codemirror_mode": {
    "name": "ipython",
    "version": 3
   },
   "file_extension": ".py",
   "mimetype": "text/x-python",
   "name": "python",
   "nbconvert_exporter": "python",
   "pygments_lexer": "ipython3",
   "version": "3.7.3"
  }
 },
 "nbformat": 4,
 "nbformat_minor": 2
}
